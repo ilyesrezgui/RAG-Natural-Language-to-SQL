{
  "cells": [
    {
      "cell_type": "markdown",
      "metadata": {
        "id": "hmKYGug07NUh"
      },
      "source": [
        "In this notebook, I work Around Retrival Augmented Generation using the OpenAI API ad langchain. \n",
        "The idea is to convert an Excel file to an SQL database. Then query this database to look for answers to questions asked in Natural Language. \n",
        "\n",
        "So It is doing Natural Language to SQL conversion."
      ]
    },
    {
      "cell_type": "code",
      "execution_count": 20,
      "metadata": {
        "id": "-qYYOiUKvd4E"
      },
      "outputs": [],
      "source": [
        "!pip install -q langchain\n",
        "!pip install -q openai"
      ]
    },
    {
      "cell_type": "code",
      "execution_count": 40,
      "metadata": {
        "id": "68Kccnw-vd-P"
      },
      "outputs": [],
      "source": [
        "import os\n",
        "os.environ['OPENAI_API_KEY'] = 'Key'"
      ]
    },
    {
      "cell_type": "code",
      "execution_count": 51,
      "metadata": {
        "id": "W2nPTqZ2vvOd"
      },
      "outputs": [],
      "source": [
        "\n",
        "import numpy as np #\n",
        "import pandas as pd #\n",
        "import sqlite3 #\n",
        "df = pd.read_excel(\"/content/2024-01-18T03_19_00+0000.xlsx\")\n"
      ]
    },
    {
      "cell_type": "code",
      "execution_count": 52,
      "metadata": {
        "colab": {
          "base_uri": "https://localhost:8080/"
        },
        "id": "ErQ8GKfkwaPw",
        "outputId": "9cc7765d-adf6-4d71-e509-a2a17c6167f6"
      },
      "outputs": [
        {
          "data": {
            "text/plain": [
              "Index(['_File', 'CERTIFICATE', 'CHARACTERISTIC', 'COMPANY', 'DATE',\n",
              "       'EDUCATION', 'EMAIL', 'INDUSTRY', 'JOBTITLE', 'LANGUAGES', 'LOCATION',\n",
              "       'NAME', 'NUMBER', 'SKILL', 'TIME', 'URL', 'Text'],\n",
              "      dtype='object')"
            ]
          },
          "execution_count": 52,
          "metadata": {},
          "output_type": "execute_result"
        }
      ],
      "source": [
        "df.columns"
      ]
    },
    {
      "cell_type": "code",
      "execution_count": null,
      "metadata": {
        "id": "mkLddwDXwYVS"
      },
      "outputs": [],
      "source": [
        "import sqlite3\n",
        "\n",
        "# Connect to the SQLite database\n",
        "conn = sqlite3.connect('People.sqlite')\n",
        "c = conn.cursor()\n",
        "\n",
        "# Create the People table if it doesn't exist\n",
        "c.execute('''CREATE TABLE IF NOT EXISTS People (\n",
        "    _File TEXT,\n",
        "    CERTIFICATE TEXT,\n",
        "    CHARACTERISTIC TEXT,\n",
        "    COMPANY TEXT,\n",
        "    DATE TEXT,\n",
        "    EDUCATION TEXT,\n",
        "    EMAIL TEXT,\n",
        "    INDUSTRY TEXT,\n",
        "    JOBTITLE TEXT,\n",
        "    LANGUAGES TEXT,\n",
        "    LOCATION TEXT,\n",
        "    NAME TEXT,\n",
        "    NUMBER TEXT,\n",
        "    SKILL TEXT,\n",
        "    TIME TEXT,\n",
        "    URL TEXT,\n",
        "    Text TEXT\n",
        ")''')\n",
        "conn.commit()\n",
        "\n",
        "# Insert data from the DataFrame into the People table\n",
        "df.to_sql('People', conn, if_exists='replace', index=False)\n",
        "\n",
        "# Retrieve and print all rows from the People table\n",
        "c.execute('''SELECT * FROM People''')\n",
        "for row in c.fetchall():\n",
        "    print(row)\n",
        "\n",
        "# Close the cursor and database connection\n",
        "#c.close()\n",
        "#conn.close()\n"
      ]
    },
    {
      "cell_type": "code",
      "execution_count": null,
      "metadata": {
        "id": "NZ30GeMIyTEc"
      },
      "outputs": [],
      "source": [
        "import sqlite3\n",
        "\n",
        "def read_sql_query(sql, db):\n",
        "    conn = sqlite3.connect(db)\n",
        "    cur = conn.cursor()\n",
        "    cur.execute(sql)\n",
        "    rows = cur.fetchall()\n",
        "    conn.close()\n",
        "    return rows\n",
        "\n",
        "# Example usage\n",
        "db_file = 'People.sqlite'\n",
        "sql_query = 'SELECT * FROM People'\n",
        "result_rows = read_sql_query(sql_query, db_file)\n",
        "\n",
        "for row in result_rows:\n",
        "    print(row)\n"
      ]
    },
    {
      "cell_type": "code",
      "execution_count": null,
      "metadata": {
        "colab": {
          "base_uri": "https://localhost:8080/"
        },
        "id": "dAluchZ9ypKi",
        "outputId": "0f757fcc-94d8-4fb5-9941-37b0d00e4b4f"
      },
      "outputs": [],
      "source": [
        "rows = read_sql_query('SELECT * FROM People LIMIT 10;', \"People.sqlite\")\n",
        "for row in rows:\n",
        "    print(row)"
      ]
    },
    {
      "cell_type": "code",
      "execution_count": null,
      "metadata": {
        "colab": {
          "base_uri": "https://localhost:8080/"
        },
        "id": "wvUvTB6Bz8N9",
        "outputId": "9e236d1d-4cf7-425a-e20c-28d2105b8a9b"
      },
      "outputs": [],
      "source": [
        "!pip install --upgrade langchain\n"
      ]
    },
    {
      "cell_type": "code",
      "execution_count": 62,
      "metadata": {
        "id": "DxSIRTl_0Nx4"
      },
      "outputs": [],
      "source": [
        "from langchain.llms import OpenAI\n",
        "from langchain.sql_database import SQLDatabase\n",
        "from langchain_experimental.sql import SQLDatabaseChain"
      ]
    },
    {
      "cell_type": "code",
      "execution_count": 63,
      "metadata": {
        "colab": {
          "base_uri": "https://localhost:8080/"
        },
        "id": "PmukEJqe01bT",
        "outputId": "1be9b6a9-f67f-4a07-f5ee-ceeeba078359"
      },
      "outputs": [
        {
          "name": "stderr",
          "output_type": "stream",
          "text": [
            "/usr/local/lib/python3.10/dist-packages/langchain_core/_api/deprecation.py:117: LangChainDeprecationWarning: The class `langchain_community.llms.openai.OpenAI` was deprecated in langchain-community 0.0.10 and will be removed in 0.2.0. An updated version of the class exists in the langchain-openai package and should be used instead. To use it run `pip install -U langchain-openai` and import as `from langchain_openai import OpenAI`.\n",
            "  warn_deprecated(\n"
          ]
        }
      ],
      "source": [
        "# Create an instance of SQLDatabase from the SQLite database file\n",
        "input_db = SQLDatabase.from_uri('sqlite:///People.sqlite')\n",
        "\n",
        "# Create an instance of OpenAI with a temperature of 0\n",
        "llm_1 = OpenAI(temperature=0)\n"
      ]
    },
    {
      "cell_type": "code",
      "execution_count": 64,
      "metadata": {
        "colab": {
          "base_uri": "https://localhost:8080/"
        },
        "id": "gKoDuXky1Oy5",
        "outputId": "f12bb0e9-1327-458f-f781-1b2ee2810fd6"
      },
      "outputs": [
        {
          "name": "stderr",
          "output_type": "stream",
          "text": [
            "/usr/local/lib/python3.10/dist-packages/langchain_experimental/sql/base.py:76: UserWarning: Directly instantiating an SQLDatabaseChain with an llm is deprecated. Please instantiate with llm_chain argument or using the from_llm class method.\n",
            "  warnings.warn(\n"
          ]
        }
      ],
      "source": [
        "db_agent = SQLDatabaseChain(llm = llm_1, database = input_db, verbose=True)"
      ]
    },
    {
      "cell_type": "code",
      "execution_count": 65,
      "metadata": {
        "colab": {
          "base_uri": "https://localhost:8080/",
          "height": 229
        },
        "id": "AQ4Rs6vh1THG",
        "outputId": "e0cfdad4-c741-4f8b-fdb0-931e09d0105f"
      },
      "outputs": [
        {
          "name": "stderr",
          "output_type": "stream",
          "text": [
            "/usr/local/lib/python3.10/dist-packages/langchain_core/_api/deprecation.py:117: LangChainDeprecationWarning: The function `run` was deprecated in LangChain 0.1.0 and will be removed in 0.2.0. Use invoke instead.\n",
            "  warn_deprecated(\n"
          ]
        },
        {
          "name": "stdout",
          "output_type": "stream",
          "text": [
            "\n",
            "\n",
            "\u001b[1m> Entering new SQLDatabaseChain chain...\u001b[0m\n",
            "how many rows are there?\n",
            "SQLQuery:\u001b[32;1m\u001b[1;3mSELECT COUNT(*) FROM People\u001b[0m\n",
            "SQLResult: \u001b[33;1m\u001b[1;3m[(21130,)]\u001b[0m\n",
            "Answer:\u001b[32;1m\u001b[1;3mThere are 21130 rows in the People table.\u001b[0m\n",
            "\u001b[1m> Finished chain.\u001b[0m\n"
          ]
        },
        {
          "data": {
            "application/vnd.google.colaboratory.intrinsic+json": {
              "type": "string"
            },
            "text/plain": [
              "'There are 21130 rows in the People table.'"
            ]
          },
          "execution_count": 65,
          "metadata": {},
          "output_type": "execute_result"
        }
      ],
      "source": [
        "db_agent.run(\"how many rows are there?\")"
      ]
    },
    {
      "cell_type": "code",
      "execution_count": 69,
      "metadata": {
        "colab": {
          "base_uri": "https://localhost:8080/",
          "height": 157
        },
        "id": "YOtu_DWL1fJ5",
        "outputId": "19ac7c1e-4c14-487f-a34f-1be742d31ee5"
      },
      "outputs": [
        {
          "name": "stdout",
          "output_type": "stream",
          "text": [
            "\n",
            "\n",
            "\u001b[1m> Entering new SQLDatabaseChain chain...\u001b[0m\n",
            "Give me the degree of the first row\n",
            "SQLQuery:\u001b[32;1m\u001b[1;3mSELECT \"EDUCATION\" FROM \"People\" LIMIT 1\u001b[0m\n",
            "SQLResult: \u001b[33;1m\u001b[1;3m[('Computer Science graduate',)]\u001b[0m\n",
            "Answer:"
          ]
        },
        {
          "data": {
            "application/vnd.google.colaboratory.intrinsic+json": {
              "type": "string"
            },
            "text/plain": [
              "'Computer Science graduate'"
            ]
          },
          "execution_count": 69,
          "metadata": {},
          "output_type": "execute_result"
        }
      ],
      "source": [
        "db_agent.run(\"Give me the degree of the first row\")"
      ]
    }
  ],
  "metadata": {
    "colab": {
      "provenance": []
    },
    "kernelspec": {
      "display_name": "Python 3",
      "name": "python3"
    },
    "language_info": {
      "name": "python"
    }
  },
  "nbformat": 4,
  "nbformat_minor": 0
}
